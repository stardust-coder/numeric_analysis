{
 "cells": [
  {
   "cell_type": "code",
   "execution_count": 99,
   "metadata": {},
   "outputs": [
    {
     "name": "stdout",
     "output_type": "stream",
     "text": [
      "[0 1 0 2]\n"
     ]
    }
   ],
   "source": [
    "import numpy as np\n",
    "\n",
    "def jacobi(A,b,tol):\n",
    "    D = np.diagflat(np.diag(A))\n",
    "    R = A - D\n",
    "    error = 1e12\n",
    "    \n",
    "    while error > tol:\n",
    "        xOld = np.ones(b.size)\n",
    "        right = -np.dot(R,xOld) + b\n",
    "        xNew = np.empty_like(b)\n",
    "        for i in range(b.size):\n",
    "            xNew[i] = right[i]/D[i][i]\n",
    "        error = np.linalg.norm(xNew-xOld)/np.linalg.norm(xNew)\n",
    "        xOld = xNew\n",
    "    return xNew\n",
    "\n",
    "A = np.array([[7, -1, 0, 1],\n",
    "              [-1, 9, -2, 2],\n",
    "              [0, -2, 8, -3],\n",
    "              [1, 2, -3, 10]])\n",
    "b = np.array([-5, 15, -10, 20])\n",
    "\n",
    "x = jacobi(A, b, 1)\n",
    "print(x)"
   ]
  },
  {
   "cell_type": "markdown",
   "metadata": {},
   "source": [
    "全然うまくいかない"
   ]
  },
  {
   "cell_type": "code",
   "execution_count": 95,
   "metadata": {},
   "outputs": [
    {
     "name": "stdout",
     "output_type": "stream",
     "text": [
      "[-0.80693816  1.11613876 -0.3092006   1.76470588]\n"
     ]
    }
   ],
   "source": [
    "import numpy as np\n",
    "\n",
    "\n",
    "def jacobi(A, b, tol):\n",
    "    # 線形連立方程式をヤコビ法で解く\n",
    "    xOld = np.empty_like(b)\n",
    "    error = 1e12\n",
    "\n",
    "    D = np.diag(A)\n",
    "    R = A - np.diagflat(D)\n",
    "\n",
    "    while error > tol:\n",
    "        x = (b-np.dot(R, xOld))/D\n",
    "        error = np.linalg.norm(x-xOld)/np.linalg.norm(x)\n",
    "        xOld = x\n",
    "    return x\n",
    "\n",
    "A = np.array([[7, -1, 0, 1],\n",
    "              [-1, 9, -2, 2],\n",
    "              [0, -2, 8, -3],\n",
    "              [1, 2, -3, 10]])\n",
    "b = np.array([-5, 15, -10, 20])\n",
    "\n",
    "x = jacobi(A, b, 1e-9)\n",
    "print(x)"
   ]
  },
  {
   "cell_type": "markdown",
   "metadata": {},
   "source": [
    "なにがちがうんだろ・・・"
   ]
  },
  {
   "cell_type": "code",
   "execution_count": null,
   "metadata": {},
   "outputs": [],
   "source": []
  }
 ],
 "metadata": {
  "kernelspec": {
   "display_name": "Python 3",
   "language": "python",
   "name": "python3"
  },
  "language_info": {
   "codemirror_mode": {
    "name": "ipython",
    "version": 3
   },
   "file_extension": ".py",
   "mimetype": "text/x-python",
   "name": "python",
   "nbconvert_exporter": "python",
   "pygments_lexer": "ipython3",
   "version": "3.6.4"
  }
 },
 "nbformat": 4,
 "nbformat_minor": 2
}
